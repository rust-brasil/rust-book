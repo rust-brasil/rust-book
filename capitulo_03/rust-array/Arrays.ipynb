{
 "cells": [
  {
   "cell_type": "markdown",
   "metadata": {},
   "source": [
    "# Arrays\n",
    "\n",
    "## Características\n",
    "\n",
    "- Tipo composto\n",
    "- Tamanho fixo\n",
    "- Diferente das tuplas, todos elementos devem ser do mesmo tipo\n",
    "- Dados alocados na região da memória chamada `pilha` (`stack`) (o gerenciamento de memória será abordado no capítulo 4) ao invés da `heap`\n",
    "\n",
    "## Quando usar\n",
    "\n",
    "- Queremos a garantia de um número fixo de itens\n",
    "- Temos a necessidade de ter estes dados na pilha (otimização, por-exemplo)\n",
    "- Para outros casos ou em caso de dúvida, a documentação recomenda usar um `vetor`, que é mais flexível, pois pode crescer ou diminuir (serão estudados no capítulo 8)\n",
    "\n",
    "## Sintaxe\n",
    "Uma array pode ser definida de duas formas."
   ]
  },
  {
   "cell_type": "markdown",
   "metadata": {},
   "source": [
    "## Declaração com valores"
   ]
  },
  {
   "cell_type": "code",
   "execution_count": 7,
   "metadata": {},
   "outputs": [
    {
     "data": {
      "text/plain": [
       "[50, 191, 132, 69, 122, 28, 169, 197]"
      ]
     },
     "execution_count": 7,
     "metadata": {},
     "output_type": "execute_result"
    }
   ],
   "source": [
    "//[<tipo>; <quantidade>] = [<valores>]\n",
    "const CHAVE_ENCRIPTACAO: [u16; 8] = [0x32, 0xbf, 0x84, 0x45, 0x7a, 0x1c, 0xa9, 0xc5];\n",
    "CHAVE_ENCRIPTACAO"
   ]
  },
  {
   "cell_type": "markdown",
   "metadata": {},
   "source": [
    "## Declaração com expressão repetidora"
   ]
  },
  {
   "cell_type": "code",
   "execution_count": 36,
   "metadata": {},
   "outputs": [],
   "source": [
    "//[<tipo>; <quantidade>] = [<valor_a_ser_repetido>; <quantidade>]\n",
    "let mut buffer_preenchido = [0; 8];\n",
    "buffer_preenchido[2] = 3;"
   ]
  },
  {
   "cell_type": "markdown",
   "metadata": {},
   "source": [
    "## Acessando elementos"
   ]
  },
  {
   "cell_type": "code",
   "execution_count": 16,
   "metadata": {},
   "outputs": [
    {
     "data": {
      "text/plain": [
       "[2, 3, 5, 7, 11, 13, 17, 19]"
      ]
     },
     "execution_count": 16,
     "metadata": {},
     "output_type": "execute_result"
    }
   ],
   "source": [
    "let npm_20 = [2, 3, 5, 7, 11, 13, 17, 19]; // números primos menores que 20\n",
    "npm_20"
   ]
  },
  {
   "cell_type": "code",
   "execution_count": 11,
   "metadata": {},
   "outputs": [
    {
     "data": {
      "text/plain": [
       "17"
      ]
     },
     "execution_count": 11,
     "metadata": {},
     "output_type": "execute_result"
    }
   ],
   "source": [
    "let setimo_primo = npm_20[6];\n",
    "setimo_primo"
   ]
  },
  {
   "cell_type": "markdown",
   "metadata": {},
   "source": [
    "## Observações"
   ]
  },
  {
   "cell_type": "code",
   "execution_count": 12,
   "metadata": {},
   "outputs": [
    {
     "ename": "Error",
     "evalue": "this operation will panic at runtime",
     "output_type": "error",
     "traceback": [
      "let nono_primo: i32 = npm_20[8];",
      "\u001b[91m                      ^^^^^^^^^\u001b[0m \u001b[94mindex out of bounds: the len is 8 but the index is 8\u001b[0m",
      "this operation will panic at runtime"
     ]
    }
   ],
   "source": [
    "// 1. Acessar um valor fora dos limites do array vai gerar\n",
    "// um erro em TEMPO DE EXECUÇÃO (panic):\n",
    "let nono_primo: i32 = npm_20[8];\n",
    "//por padrão nem compila, antigamente o\n",
    "//compilador emitia um aviso e compilava"
   ]
  },
  {
   "cell_type": "code",
   "execution_count": 14,
   "metadata": {},
   "outputs": [
    {
     "name": "stderr",
     "output_type": "stream",
     "text": [
      "thread '<unnamed>' panicked at 'index out of bounds: the len is 8 but the index is 8', src/lib.rs:114:23\n",
      "stack backtrace:\n",
      "   0: backtrace::backtrace::libunwind::trace\n",
      "             at /cargo/registry/src/github.com-1ecc6299db9ec823/backtrace-0.3.46/src/backtrace/libunwind.rs:86\n",
      "   1: backtrace::backtrace::trace_unsynchronized\n",
      "             at /cargo/registry/src/github.com-1ecc6299db9ec823/backtrace-0.3.46/src/backtrace/mod.rs:66\n",
      "   2: std::sys_common::backtrace::_print_fmt\n",
      "             at src/libstd/sys_common/backtrace.rs:78\n",
      "   3: <std::sys_common::backtrace::_print::DisplayBacktrace as core::fmt::Display>::fmt\n",
      "             at src/libstd/sys_common/backtrace.rs:59\n",
      "   4: core::fmt::write\n",
      "             at src/libcore/fmt/mod.rs:1076\n",
      "   5: std::io::Write::write_fmt\n",
      "             at src/libstd/io/mod.rs:1537\n",
      "   6: std::sys_common::backtrace::_print\n",
      "             at src/libstd/sys_common/backtrace.rs:62\n",
      "   7: std::sys_common::backtrace::print\n",
      "             at src/libstd/sys_common/backtrace.rs:49\n",
      "   8: std::panicking::default_hook::{{closure}}\n",
      "             at src/libstd/panicking.rs:198\n",
      "   9: std::panicking::default_hook\n",
      "             at src/libstd/panicking.rs:217\n",
      "  10: std::panicking::rust_panic_with_hook\n",
      "             at src/libstd/panicking.rs:526\n",
      "  11: rust_begin_unwind\n",
      "             at src/libstd/panicking.rs:437\n",
      "  12: core::panicking::panic_fmt\n",
      "             at src/libcore/panicking.rs:85\n",
      "  13: core::panicking::panic_bounds_check\n",
      "             at src/libcore/panicking.rs:62\n",
      "  14: run_user_code_9\n",
      "  15: evcxr::runtime::Runtime::run_loop\n",
      "  16: evcxr::runtime::runtime_hook\n",
      "  17: evcxr_jupyter::main\n",
      "  18: std::rt::lang_start::{{closure}}\n",
      "  19: std::rt::lang_start_internal::{{closure}}\n",
      "             at src/libstd/rt.rs:52\n",
      "  20: std::panicking::try::do_call\n",
      "             at src/libstd/panicking.rs:348\n",
      "  21: std::panicking::try\n",
      "             at src/libstd/panicking.rs:325\n",
      "  22: std::panic::catch_unwind\n",
      "             at src/libstd/panic.rs:394\n",
      "  23: std::rt::lang_start_internal\n",
      "             at src/libstd/rt.rs:51\n",
      "  24: main\n",
      "  25: __libc_start_main\n",
      "  26: _start\n",
      "note: Some details are omitted, run with `RUST_BACKTRACE=full` for a verbose backtrace.\n"
     ]
    },
    {
     "ename": "Error",
     "evalue": "Child process terminated with status: exit code: 101",
     "output_type": "error",
     "traceback": [
      "Child process terminated with status: exit code: 101"
     ]
    }
   ],
   "source": [
    "#[allow(unconditional_panic)]\n",
    "let nono_primo: i32 = npm_20[8]; //erro em tempo de execução"
   ]
  },
  {
   "cell_type": "code",
   "execution_count": 18,
   "metadata": {},
   "outputs": [
    {
     "data": {
      "text/plain": [
       "19"
      ]
     },
     "execution_count": 18,
     "metadata": {},
     "output_type": "execute_result"
    }
   ],
   "source": [
    "// É possível usar o get() para um acesso safo\n",
    "let nono_primo: i32 = match npm_20.get(7) {\n",
    "    None => 0,\n",
    "    Some(n) => *n\n",
    "};\n",
    "nono_primo"
   ]
  },
  {
   "cell_type": "code",
   "execution_count": 19,
   "metadata": {},
   "outputs": [
    {
     "data": {
      "text/plain": [
       "[[1, 0, 0], [0, 1, 0], [0, 0, 1]]"
      ]
     },
     "execution_count": 19,
     "metadata": {},
     "output_type": "execute_result"
    }
   ],
   "source": [
    "// 2. Definição e acesso de arrays multidimensionais:\n",
    "let matriz = [[1,0,0], [0,1,0], [0,0,1]];\n",
    "matriz"
   ]
  },
  {
   "cell_type": "code",
   "execution_count": 20,
   "metadata": {},
   "outputs": [
    {
     "data": {
      "text/plain": [
       "1"
      ]
     },
     "execution_count": 20,
     "metadata": {},
     "output_type": "execute_result"
    }
   ],
   "source": [
    "matriz[0][0]"
   ]
  },
  {
   "cell_type": "code",
   "execution_count": 21,
   "metadata": {},
   "outputs": [
    {
     "data": {
      "text/plain": [
       "0"
      ]
     },
     "execution_count": 21,
     "metadata": {},
     "output_type": "execute_result"
    }
   ],
   "source": [
    "matriz[1][2]"
   ]
  },
  {
   "cell_type": "code",
   "execution_count": 22,
   "metadata": {},
   "outputs": [
    {
     "data": {
      "text/plain": [
       "1"
      ]
     },
     "execution_count": 22,
     "metadata": {},
     "output_type": "execute_result"
    }
   ],
   "source": [
    "matriz[2][2]"
   ]
  },
  {
   "cell_type": "code",
   "execution_count": 23,
   "metadata": {},
   "outputs": [
    {
     "name": "stdout",
     "output_type": "stream",
     "text": [
      "100\n",
      "010\n",
      "001\n"
     ]
    },
    {
     "data": {
      "text/plain": [
       "()"
      ]
     },
     "execution_count": 23,
     "metadata": {},
     "output_type": "execute_result"
    }
   ],
   "source": [
    "// 3. Iteração de arrays com .iter()\n",
    "for linha in matriz.iter() {\n",
    "    for coluna in linha.iter() {\n",
    "        print!(\"{}\", coluna);\n",
    "    }\n",
    "    println!(\"\");\n",
    "}"
   ]
  },
  {
   "cell_type": "code",
   "execution_count": 24,
   "metadata": {},
   "outputs": [
    {
     "ename": "Error",
     "evalue": "mismatched types",
     "output_type": "error",
     "traceback": [
      "let matriz: [[i32;3]; 3] = [[1,0,0], [0, 1, 4, 0], [0,0,1]]; ",
      "\u001b[91m                                     ^^^^^^^^^^^^\u001b[0m \u001b[94mexpected an array with a fixed size of 3 elements, found one with 4 elements\u001b[0m",
      "mismatched types"
     ]
    }
   ],
   "source": [
    "// 4. Uma array com tamanho diferente é efetivamente um\n",
    "// tipo diferente, não existe \"tipo array\", isto é,\n",
    "// o tipo é composto pelo tamanho:\n",
    "let matriz: [[i32;3]; 3] = [[1,0,0], [0, 1, 4], [0,0,1]]; //ERRO"
   ]
  },
  {
   "cell_type": "code",
   "execution_count": 25,
   "metadata": {},
   "outputs": [
    {
     "data": {
      "text/plain": [
       "[1, 2, 3, 4, 5]"
      ]
     },
     "execution_count": 25,
     "metadata": {},
     "output_type": "execute_result"
    }
   ],
   "source": [
    "// 5. Declaração de array não inicializada:\n",
    "let cinco_numeros :[i32; 5];\n",
    "//...\n",
    "cinco_numeros = [1, 2, 3, 4, 5];\n",
    "cinco_numeros"
   ]
  },
  {
   "cell_type": "code",
   "execution_count": 26,
   "metadata": {},
   "outputs": [
    {
     "data": {
      "text/plain": [
       "['A', 'e', 'i', 'o', 'u']"
      ]
     },
     "execution_count": 26,
     "metadata": {},
     "output_type": "execute_result"
    }
   ],
   "source": [
    "// 6. Arrays mutáveis\n",
    "let mut arr = ['a', 'e', 'i', 'o', 'u'];\n",
    "arr[0] = 'A';\n",
    "arr"
   ]
  },
  {
   "cell_type": "code",
   "execution_count": 29,
   "metadata": {},
   "outputs": [
    {
     "ename": "Error",
     "evalue": "arrays only have std trait implementations for lengths 0..=32",
     "output_type": "error",
     "traceback": [
      "println!(\"{:?}\", array_33_itens);",
      "\u001b[91m                 ^^^^^^^^^^^^^^\u001b[0m \u001b[94mthe trait `std::array::LengthAtMost32` is not implemented for `[{integer}; 33]`\u001b[0m",
      "arrays only have std trait implementations for lengths 0..=32"
     ]
    }
   ],
   "source": [
    "// 7. Traits padrão foram implementadas para arrays com\n",
    "// até 32 itens:\n",
    "let array_33_itens = [1; 33];\n",
    "println!(\"{:?}\", array_33_itens);\n",
    "//array_33_itens"
   ]
  },
  {
   "cell_type": "code",
   "execution_count": 30,
   "metadata": {},
   "outputs": [
    {
     "name": "stdout",
     "output_type": "stream",
     "text": [
      "A array_33_itens tem 33 itens\n"
     ]
    }
   ],
   "source": [
    "// 8. Arrays são forçadas (coagidas) implicitamente para \n",
    "// slices pelo compilador,ou seja, métodos de slice funcionam\n",
    "// em arrays (Slices serão abordados em breve no capítulo 4):\n",
    "let array_33_itens = [1; 33];\n",
    "let tamanho = array_33_itens.len(); // len() é um método de slice\n",
    "println!(\"A array_33_itens tem {} itens\", tamanho);"
   ]
  }
 ],
 "metadata": {
  "kernelspec": {
   "display_name": "Rust",
   "language": "rust",
   "name": "rust"
  },
  "language_info": {
   "codemirror_mode": "rust",
   "file_extension": ".rs",
   "mimetype": "text/rust",
   "name": "Rust",
   "pygment_lexer": "rust",
   "version": ""
  }
 },
 "nbformat": 4,
 "nbformat_minor": 4
}
